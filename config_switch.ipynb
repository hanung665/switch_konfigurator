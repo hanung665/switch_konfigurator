{
 "cells": [
  {
   "cell_type": "markdown",
   "metadata": {},
   "source": [
    "Requirement:\n",
    "- traitlets\n",
    "- ftp\n",
    "- csv\n",
    "- netmiko\n",
    "- paramiko\n",
    "- pyserial\n",
    "- ftplib\n",
    "- file crede.py\n",
    "- file configurasi switch"
   ]
  },
  {
   "cell_type": "markdown",
   "metadata": {
    "ExecuteTime": {
     "end_time": "2020-10-24T10:47:16.993449Z",
     "start_time": "2020-10-24T10:47:16.961921Z"
    }
   },
   "source": [
    "### Pilih file konfigurasi yang telah dibuat sesuai dengan kantor tujuan"
   ]
  },
  {
   "cell_type": "code",
   "execution_count": null,
   "metadata": {
    "ExecuteTime": {
     "end_time": "2020-10-24T11:23:48.691400Z",
     "start_time": "2020-10-24T11:23:48.651558Z"
    }
   },
   "outputs": [],
   "source": [
    "#!/bin/env python\n",
    "\n",
    "import serial,sys,glob,select, io, time\n",
    "import serial.tools.list_ports as port_list\n",
    "\n",
    "import traitlets\n",
    "from ipywidgets import widgets\n",
    "from IPython.display import display\n",
    "from tkinter import Tk, filedialog\n",
    "\n",
    "\n",
    "class SelectFilesButton(widgets.Button):\n",
    "\n",
    "    def __init__(self):\n",
    "        super(SelectFilesButton, self).__init__()\n",
    "        # Add the selected_files trait\n",
    "        self.add_traits(files=traitlets.traitlets.List())\n",
    "        # Create the button.\n",
    "        self.description = \"Pilih File\"\n",
    "        self.icon = \"square-o\"\n",
    "        self.style.button_color = \"red\"\n",
    "        # Set on click behavior.\n",
    "        self.on_click(self.select_files)\n",
    "\n",
    "    @staticmethod\n",
    "    def select_files(b):\n",
    "        with out:\n",
    "            try:\n",
    "                # Create Tk root\n",
    "                root = Tk()\n",
    "                # Hide the main window\n",
    "                root.withdraw()\n",
    "                # Raise the root to the top of all windows.\n",
    "                root.call('wm', 'attributes', '.', '-topmost', True)\n",
    "                # List of selected fileswill be set to b.value\n",
    "                b.files = filedialog.askopenfilename(multiple=True)\n",
    "\n",
    "                b.description = \"Files Telah Dipilih\"\n",
    "                b.icon = \"check-square-o\"\n",
    "                b.style.button_color = \"blue\"\n",
    "            except:\n",
    "                pass\n",
    "out = widgets.Output()\n",
    "raw = SelectFilesButton()\n",
    "widgets.VBox([raw, out])"
   ]
  },
  {
   "cell_type": "markdown",
   "metadata": {
    "ExecuteTime": {
     "end_time": "2020-10-24T10:57:30.399368Z",
     "start_time": "2020-10-24T10:47:33.269248Z"
    }
   },
   "source": [
    "### Pastikan telah memilih  file konfigurasi dengan tombol di atas"
   ]
  },
  {
   "cell_type": "code",
   "execution_count": null,
   "metadata": {
    "ExecuteTime": {
     "end_time": "2020-10-24T10:57:30.399368Z",
     "start_time": "2020-10-24T10:47:33.269248Z"
    },
    "scrolled": false
   },
   "outputs": [],
   "source": [
    "ports = list(port_list.comports())\n",
    "for p in ports:\n",
    "    print (p)\n",
    "print(\"---\")\n",
    "\n",
    "#Cek serport apakah sesuai dengan port switch\n",
    "serport = 'COM3'\n",
    "rate = \"9600\"\n",
    "ser = serial.Serial(\n",
    "    port=serport,\n",
    "    baudrate=rate,\n",
    "    parity=serial.PARITY_NONE,\n",
    "    stopbits=serial.STOPBITS_ONE,\n",
    "    bytesize=serial.EIGHTBITS,\n",
    "    timeout=5)\n",
    "\n",
    "print(\"Serial port: \" + ser.portstr + \"\\nBaudrate: \" + rate)\n",
    "\n",
    "if not ser.isOpen():\n",
    "    ser.open()\n",
    "\n",
    "print(\"Status serial connection : \", ser.is_open)\n",
    "\n",
    "sio = io.TextIOWrapper(io.BufferedRWPair(ser, ser))\n",
    "\n",
    "#'''\n",
    "def eksekusi(perintah):\n",
    "    print(\"Perintah :\", perintah)\n",
    "    #comd = \"'\"+perintah+r\"\\n\"+\"'\"\n",
    "    #print(\"Perintah :\", comd)\n",
    "    \n",
    "    sio.write(str(perintah))\n",
    "    time.sleep(1)\n",
    "    sio.write(\"\\n\")\n",
    "    #print(\"Flushing..\")\n",
    "    sio.flush()\n",
    "    #print(\"Sleeping..\")\n",
    "    time.sleep(2)\n",
    "    #print(\"Readlines..\")\n",
    "    if ser.inWaiting():\n",
    "        data_str =ser.read(ser.inWaiting())\n",
    "        print(\"Respon :\", data_str.decode())\n",
    "        #print(\"Stringify :\", data_str)\n",
    "    \n",
    "\n",
    "        \n",
    "\n",
    "##eksekusi tiap baris perintah di file config\n",
    "#file = open('template.txt','r')\n",
    "file = open(raw.files[0],'r')\n",
    "lines = file.readlines()\n",
    "\n",
    "for line in lines:\n",
    "    #print(\"Baris dari file :\", line.strip())\n",
    "    eksekusi(line.strip())\n",
    "    \n",
    "file.close()\n",
    "\n",
    "## show version untuk mendapatkan serial number switch\n",
    "sio.write(str(\"show version\"))\n",
    "time.sleep(1)\n",
    "sio.write(\"\\n\")\n",
    "sio.flush()\n",
    "time.sleep(2)\n",
    "if ser.inWaiting():\n",
    "    data_sn = ser.read(ser.inWaiting())\n",
    "    print(\"Info :\", data_sn.decode())\n",
    "\n",
    "##write sn ke file lokal\n",
    "## Masukkan nama kppn untuk nama file serial number\n",
    "sn = open('sn-'+str(input(\"Nama KPPN : \"))+'.txt','w')\n",
    "sn.write(data_sn.decode())\n",
    "sn.close()\n",
    "\n",
    "\n",
    "##Cek IP switch untuk dilakukan SSH\n",
    "sio.write(str(\"show arp\"))\n",
    "time.sleep(1)\n",
    "sio.write(\"\\n\")\n",
    "sio.flush()\n",
    "time.sleep(2)\n",
    "if ser.inWaiting():\n",
    "    data_sn =ser.read(ser.inWaiting())\n",
    "    #print(data_sn)\n",
    "    print(\"Info : \", data_sn.decode())\n",
    "\n",
    "print(\"Proses konfigurasi switch selesai\")\n",
    "print(\"Catat IP switch di atas untuk menjadi input proses SSH\")\n",
    "print(\"Menutup serial connection\")\n",
    "ser.close()"
   ]
  },
  {
   "cell_type": "code",
   "execution_count": null,
   "metadata": {
    "ExecuteTime": {
     "end_time": "2020-10-24T10:46:46.030207Z",
     "start_time": "2020-10-24T10:46:45.890724Z"
    }
   },
   "outputs": [],
   "source": [
    "## Eksekusi ini HANYA jika ada error ketika koneksi serial di cell sebelumnya error.\n",
    "## serial connection harus diclose agar bisa connect kembali\n",
    "ser.close()"
   ]
  },
  {
   "cell_type": "markdown",
   "metadata": {
    "ExecuteTime": {
     "end_time": "2020-10-24T11:03:37.056408Z",
     "start_time": "2020-10-24T11:03:13.456116Z"
    }
   },
   "source": [
    "### Koneksi SSH ke switch yang telah diconfig di atas untuk menguji SSH bisa dilakukan serta meng-copy setting running-config ke ftp PJKD"
   ]
  },
  {
   "cell_type": "code",
   "execution_count": 5,
   "metadata": {
    "ExecuteTime": {
     "end_time": "2020-10-24T12:16:36.691041Z",
     "start_time": "2020-10-24T12:16:13.996951Z"
    }
   },
   "outputs": [
    {
     "name": "stdout",
     "output_type": "stream",
     "text": [
      "IP untuk SSH sesuai dengan hasil show arp di atas : 10.100.244.175\n",
      "Folder : kanwil-maluku\n",
      "Folder : kppn-ambon\n",
      "250 CWD command successful\n",
      "Folder kanwil tersebut telah ada\n",
      "Folder KPPN tersebut telah ada\n",
      "<bound method FTP.cwd of <ftplib.FTP object at 0x0000029EB5785CD0>>\n",
      "Machine Description............... Dell Networking Switch\n",
      "System Model ID................... N1548P\n",
      "Machine Type...................... Dell Networking N1548P\n",
      "Serial Number..................... CN03WY51DND009CG0461A01\n",
      "Manufacturer...................... 0xbc00\n",
      "Burned In MAC Address............. 2004.0F6B.9612\n",
      "System Object ID.................. 1.3.6.1.4.1.674.10895.3066\n",
      "SOC Version....................... BCM56150_A0\n",
      "HW Version........................ 3\n",
      "CPLD Version...................... 16\n",
      "\n",
      "unit active      backup      current-active next-active\n",
      "---- ----------- ----------- -------------- --------------\n",
      "1    6.3.3.14    6.3.3.14    6.3.3.14       6.3.3.14\n",
      "\n",
      "\n",
      "copy running-config ftp://nagios@10.100.244.240/switch_DELL_KV/backup-konfig-kantor-vertikal/kanwil-maluku/kppn-ambon/kppn-ambon.txt\n",
      "\n",
      "Remote Password:\n",
      "copy running-config ftp://nagios@10.100.244.240/switch_DELL_KV/backup-konfig-kantor-vertikal/kanwil-maluku/kppn-ambon/kppn-ambon.txt\n",
      "\n",
      "Remote Password:******\n",
      "\n",
      "\n",
      "Transfer Mode.................................. FTP   \n",
      "Server IP Address.............................. 10.100.244.240\n",
      "Destination File Path.......................... /switch_DELL_KV/backup-konfig-kantor-vertikal/kanwil-maluku/kppn-ambon/\n",
      "Destination Filename........................... kppn-ambon.txt\n",
      "Data Type...................................... Config Script   \n",
      "Source Filename................................ running-config\n",
      "\n",
      "Management access will be blocked for the duration of the transfer\n",
      "Are you sure you want to start? (y/n) \n",
      "copy running-config ftp://nagios@10.100.244.240/switch_DELL_KV/backup-konfig-kantor-vertikal/kanwil-maluku/kppn-ambon/kppn-ambon.txt\n",
      "\n",
      "Remote Password:******\n",
      "\n",
      "\n",
      "Transfer Mode.................................. FTP   \n",
      "Server IP Address.............................. 10.100.244.240\n",
      "Destination File Path.......................... /switch_DELL_KV/backup-konfig-kantor-vertikal/kanwil-maluku/kppn-ambon/\n",
      "Destination Filename........................... kppn-ambon.txt\n",
      "Data Type...................................... Config Script   \n",
      "Source Filename................................ running-config\n",
      "\n",
      "Management access will be blocked for the duration of the transfer\n",
      "Are you sure you want to start? (y/n) \n"
     ]
    }
   ],
   "source": [
    "import os\n",
    "from ftplib import FTP\n",
    "import crede\n",
    "\n",
    "device_config = {\n",
    "    \"device_type\" : \"dell_os6\",\n",
    "    \"ip\" : str(input(\"IP untuk SSH sesuai dengan hasil show arp di atas : \")),\n",
    "    \"username\" : crede.username,\n",
    "    \"password\" : crede.password,\n",
    "    \"secret\" : crede.secret\n",
    "}\n",
    "kanwil = \"kanwil-\"+str(input(\"Folder : kanwil-\"))\n",
    "kppn = \"kppn-\"+str(input(\"Folder : kppn-\"))\n",
    "\n",
    "##cek folder kanwil dan kppn di ftp\n",
    "ftp = FTP('10.100.244.240')\n",
    "ftp.login(crede.ftp_user,crede.ftp_pass)\n",
    "print(ftp.cwd('switch_DELL_KV/backup-konfig-kantor-vertikal/'))\n",
    "try:\n",
    "    ftp.mkd(kanwil)\n",
    "except Exception as e:\n",
    "    print(\"Folder kanwil tersebut telah ada\")\n",
    "ftp.cwd(kanwil)\n",
    "try:\n",
    "    ftp.mkd(kppn)\n",
    "except Exception as e:\n",
    "    print(\"Folder KPPN tersebut telah ada\")\n",
    "print(ftp.cwd)\n",
    "ftp.close()\n",
    "      \n",
    "from netmiko import ConnectHandler\n",
    "try:\n",
    "    conn = ConnectHandler(**device_config)\n",
    "    #print(conn.find_prompt())\n",
    "except Exception as e:\n",
    "    print(e)\n",
    "    \n",
    "print(conn.send_command(\"show version\"))\n",
    "output = conn.send_command_timing(\n",
    "    \"copy run ftp://nagios@10.100.244.240/switch_DELL_KV/backup-konfig-kantor-vertikal/\"+kanwil+\"/\"+kppn+\"/\"+kppn+\".txt\"\n",
    ")\n",
    "print(output)\n",
    "if \"Remote Password\" in output:\n",
    "    output+=conn.send_command_timing(crede.ftp_pass+\"\\n\")\n",
    "print(output)\n",
    "if \"(y/n)\" in output:\n",
    "    output+=conn.send_command_timing(\"y\\n\")\n",
    "print(output)\n",
    "## Tampilan respon baliknya tidak utuh,\n",
    "## mungkin karena timingnya kurang lama,\n",
    "## tapi sudah berhasil terekskusi\n",
    "\n",
    "## Terakhir dikonek koneksi\n",
    "conn.disconnect()"
   ]
  },
  {
   "cell_type": "code",
   "execution_count": null,
   "metadata": {},
   "outputs": [],
   "source": []
  }
 ],
 "metadata": {
  "hide_input": false,
  "kernelspec": {
   "display_name": "Python 3",
   "language": "python",
   "name": "python3"
  },
  "language_info": {
   "codemirror_mode": {
    "name": "ipython",
    "version": 3
   },
   "file_extension": ".py",
   "mimetype": "text/x-python",
   "name": "python",
   "nbconvert_exporter": "python",
   "pygments_lexer": "ipython3",
   "version": "3.8.3"
  },
  "latex_envs": {
   "LaTeX_envs_menu_present": true,
   "autoclose": false,
   "autocomplete": true,
   "bibliofile": "biblio.bib",
   "cite_by": "apalike",
   "current_citInitial": 1,
   "eqLabelWithNumbers": true,
   "eqNumInitial": 1,
   "hotkeys": {
    "equation": "Ctrl-E",
    "itemize": "Ctrl-I"
   },
   "labels_anchors": false,
   "latex_user_defs": false,
   "report_style_numbering": false,
   "user_envs_cfg": false
  },
  "toc": {
   "base_numbering": 1,
   "nav_menu": {},
   "number_sections": true,
   "sideBar": true,
   "skip_h1_title": false,
   "title_cell": "Table of Contents",
   "title_sidebar": "Contents",
   "toc_cell": false,
   "toc_position": {},
   "toc_section_display": true,
   "toc_window_display": false
  }
 },
 "nbformat": 4,
 "nbformat_minor": 4
}
